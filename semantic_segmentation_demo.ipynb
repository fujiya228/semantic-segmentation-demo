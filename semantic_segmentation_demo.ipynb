{
  "nbformat": 4,
  "nbformat_minor": 0,
  "metadata": {
    "colab": {
      "name": "semantic_segmentation-demo.ipynb",
      "provenance": [],
      "collapsed_sections": []
    },
    "kernelspec": {
      "name": "python3",
      "display_name": "Python 3"
    },
    "accelerator": "GPU"
  },
  "cells": [
    {
      "cell_type": "code",
      "metadata": {
        "id": "qckzGuDzp0i4"
      },
      "source": [
        "import glob\n",
        "import matplotlib.pyplot as plt\n",
        "import tensorflow as tf\n",
        "import numpy as np\n",
        "import cv2"
      ],
      "execution_count": null,
      "outputs": []
    },
    {
      "cell_type": "code",
      "metadata": {
        "id": "eipK1iGjj53Y"
      },
      "source": [
        "# stanford background dataset をつかう　http://dags.stanford.edu/projects/scenedataset.html\n",
        "!wget http://dags.stanford.edu/data/iccv09Data.tar.gz"
      ],
      "execution_count": null,
      "outputs": []
    },
    {
      "cell_type": "code",
      "metadata": {
        "id": "W9SNZC2Hl3Cv"
      },
      "source": [
        "# 解凍\n",
        "!tar -xzvf iccv09Data.tar.gz"
      ],
      "execution_count": null,
      "outputs": []
    },
    {
      "cell_type": "code",
      "metadata": {
        "id": "6VRf292Ep6eJ"
      },
      "source": [
        "# どんな画像があるか確認\n",
        "name = '0000047'                                                        # ファイル名を指定\n",
        "img = cv2.imread(f'./iccv09Data/images/{name}.jpg')                     # jpg画像\n",
        "label_regions = np.loadtxt(f'./iccv09Data/labels/{name}.regions.txt')   # 意味クラス（空, 木, 道, 草, 水, 建物, 山, 前景のオブジェクト）を示すマスク\n",
        "label_surfaces = np.loadtxt(f'./iccv09Data/labels/{name}.surfaces.txt') # 幾何学的なクラス (空, 水平, 垂直) を示すマスク\n",
        "label_layers = np.loadtxt(f'./iccv09Data/labels/{name}.layers.txt')     # 別々の画像領域を示すマスク\n",
        "\n",
        "# 画像表示\n",
        "display_list = [img, label_regions, label_surfaces, label_layers]\n",
        "title = ['jpg', 'regions', 'surfaces', 'layers']\n",
        "plt.figure(figsize=(15, 15))\n",
        "\n",
        "for i in range(len(display_list)):\n",
        "    plt.subplot(1, len(display_list), i+1)\n",
        "    plt.title(title[i])\n",
        "    plt.imshow(display_list[i])\n",
        "    plt.axis('off')\n",
        "plt.show()"
      ],
      "execution_count": null,
      "outputs": []
    },
    {
      "cell_type": "code",
      "metadata": {
        "id": "MZHMm9HD0L1P"
      },
      "source": [
        "# 構築済みモデルを使えるパッケージをインストール\n",
        "# https://github.com/qubvel/segmentation_models\n",
        "!pip install -U segmentation-models"
      ],
      "execution_count": null,
      "outputs": []
    },
    {
      "cell_type": "code",
      "metadata": {
        "id": "5WghWJ4L_hMT"
      },
      "source": [
        "# 現状(2020.11.3)のColabだと2.3.0で、このバージョンだとsegmentation_modelsをインポートする際に以下のエラーが出る\n",
        "# AttributeError: module 'keras.utils' has no attribute 'generic_utils'\n",
        "# バージョンを下げて解決（2.2.0はダメでした、他の解決方法があれば教えていただきたいです）\n",
        "!pip install tensorflow==2.1.0"
      ],
      "execution_count": null,
      "outputs": []
    },
    {
      "cell_type": "code",
      "metadata": {
        "id": "rXpeNnmw0Rk7"
      },
      "source": [
        "# 以下のチュートリアル=>シンプルなトレーニングパイプラインを参考\n",
        "# https://segmentation-models.readthedocs.io/en/latest/tutorial.html#simple-training-pipeline\n",
        "from segmentation_models import Unet\n",
        "from segmentation_models import get_preprocessing\n",
        "\n",
        "BACKBONE = 'resnet34'\n",
        "preprocess_input = get_preprocessing(BACKBONE)"
      ],
      "execution_count": null,
      "outputs": []
    },
    {
      "cell_type": "code",
      "metadata": {
        "id": "L6U2oMMlDJm0"
      },
      "source": [
        "# データセットの準備(今回は3種類のマスクの内、surfacesを選択)\n",
        "\n",
        "# 画像の一覧取得\n",
        "images = sorted(glob.glob(f'./iccv09Data/images/*.jpg'))\n",
        "labels = sorted(glob.glob(f'./iccv09Data/labels/*.surfaces.txt'))\n",
        "\n",
        "x = []\n",
        "y = []\n",
        "classes = 3                 # クラス数\n",
        "ratio = 0.8                 # 学習データの割合\n",
        "input_shape = (224, 224)    # 32の倍数でないといけない https://github.com/qubvel/segmentation_models/issues/1\n",
        "\n",
        "# 入力画像\n",
        "for img_path in images:\n",
        "    img = cv2.imread(img_path)\n",
        "    img = cv2.resize(img, input_shape)      # 入力サイズに変換\n",
        "    img = np.array(img, dtype=np.float32)   # float形に変換\n",
        "    img *= 1./255                           # 0～1に正規化\n",
        "    x.append(img)\n",
        "\n",
        "# 正解ラベル\n",
        "for label_path in labels:\n",
        "    label = np.loadtxt(label_path)\n",
        "    label = cv2.resize(label, input_shape)  # 入力サイズに変換\n",
        "    img = []\n",
        "    for label_index in range(classes):      # 各クラスごとに画像を作成（クラス0であれば、元のマスク0の部分が1、それ以外は0の画像となる）\n",
        "        img.append(label == label_index)\n",
        "    img = np.array(img, np.float32)         # float形に変換\n",
        "    img = img.transpose(1, 2, 0)            # (クラス数, 224, 224) => (224, 224, クラス数)\n",
        "    y.append(img)\n",
        "\n",
        "x = np.array(x)\n",
        "y = np.array(y)\n",
        "x = preprocess_input(x)\n",
        "\n",
        "# データを分割\n",
        "p = int(ratio * len(x))\n",
        "x_train = x[:p]\n",
        "y_train = y[:p]\n",
        "x_val = x[p:]\n",
        "y_val = y[p:]"
      ],
      "execution_count": null,
      "outputs": []
    },
    {
      "cell_type": "code",
      "metadata": {
        "id": "YFcs4w6hV-7P"
      },
      "source": [
        "# 以下のチュートリアル=>シンプルなトレーニングパイプラインを参考\n",
        "# https://segmentation-models.readthedocs.io/en/latest/tutorial.html#simple-training-pipeline\n",
        "\n",
        "# モデルを定義\n",
        "model = Unet(BACKBONE, classes=classes, encoder_weights=None)\n",
        "model.compile('Adam', loss='categorical_crossentropy', metrics=['accuracy'])\n",
        "\n",
        "# 学習\n",
        "history = model.fit(\n",
        "    x=x_train,\n",
        "    y=y_train,\n",
        "    batch_size=16,\n",
        "    epochs=20,\n",
        "    validation_data=(x_val, y_val)\n",
        ")"
      ],
      "execution_count": null,
      "outputs": []
    },
    {
      "cell_type": "code",
      "metadata": {
        "id": "dVlQGmyqO5hD"
      },
      "source": [
        "# 学習曲線のグラフ\n",
        "fig, (axL, axR) = plt.subplots(ncols=2, figsize=(10, 4))\n",
        "\n",
        "# [左側] metricsについてのグラフ\n",
        "axL.plot(history.history['accuracy'])\n",
        "axL.plot(history.history['val_accuracy'])\n",
        "axL.grid(True)\n",
        "axL.set_title('Accuracy_vs_Epoch')\n",
        "axL.set_ylabel('accuracy')\n",
        "axL.set_xlabel('epoch')\n",
        "axL.legend(['train', 'val'], loc='upper left')\n",
        "\n",
        "# [右側] lossについてのグラフ\n",
        "axR.plot(history.history['loss'])\n",
        "axR.plot(history.history['val_loss'])\n",
        "axR.grid(True)\n",
        "axR.set_title(\"Loss_vs_Epoch\")\n",
        "axR.set_ylabel('loss')\n",
        "axR.set_xlabel('epoch')\n",
        "axR.legend(['train', 'val'], loc='upper left')\n",
        "\n",
        "# グラフを表示\n",
        "plt.show()"
      ],
      "execution_count": null,
      "outputs": []
    },
    {
      "cell_type": "code",
      "metadata": {
        "id": "W4daFya2uBWe"
      },
      "source": [
        "# 結果を確認\n",
        "num = 0                                                     # 確認したい画像を指定\n",
        "input_img = x_train[num]                                    # 入力画像\n",
        "true_img = cv2.resize(np.loadtxt(labels[num]), input_shape) # 正解マスク\n",
        "preds = model.predict(x_train[num][np.newaxis, ...])        # 予測（長さ１の配列で渡す）\n",
        "pred_img = np.argmax(preds[0], axis=2)                      # 予測マスク (224, 224, クラス数) => (224, 224)\n",
        "\n",
        "# 結果表示\n",
        "display_list = [input_img, true_img, pred_img]\n",
        "title = ['Input Image', 'True Mask', 'Predicted Mask']\n",
        "\n",
        "plt.figure(figsize=(15, 15))\n",
        "for i in range(len(display_list)):\n",
        "    plt.subplot(1, len(display_list), i+1)\n",
        "    plt.title(title[i])\n",
        "    plt.imshow(display_list[i])\n",
        "    plt.axis('off')\n",
        "plt.show()\n"
      ],
      "execution_count": null,
      "outputs": []
    }
  ]
}